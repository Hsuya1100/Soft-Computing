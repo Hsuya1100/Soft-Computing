{
 "cells": [
  {
   "cell_type": "code",
   "execution_count": 141,
   "metadata": {
    "scrolled": true
   },
   "outputs": [
    {
     "name": "stdout",
     "output_type": "stream",
     "text": [
      "Requirement already satisfied: python-docx in /Users/maanasvohra/Desktop/SCO_V2/env_setup/lib/python3.7/site-packages (0.8.10)\n",
      "Requirement already satisfied: lxml>=2.3.2 in /Users/maanasvohra/Desktop/SCO_V2/env_setup/lib/python3.7/site-packages (from python-docx) (4.3.2)\n",
      "Requirement already satisfied: numpy in /Users/maanasvohra/Desktop/SCO_V2/env_setup/lib/python3.7/site-packages (1.16.2)\n",
      "Requirement already satisfied: matplotlib in /Users/maanasvohra/Desktop/SCO_V2/env_setup/lib/python3.7/site-packages (3.0.3)\n",
      "Requirement already satisfied: cycler>=0.10 in /Users/maanasvohra/Desktop/SCO_V2/env_setup/lib/python3.7/site-packages (from matplotlib) (0.10.0)\n",
      "Requirement already satisfied: numpy>=1.10.0 in /Users/maanasvohra/Desktop/SCO_V2/env_setup/lib/python3.7/site-packages (from matplotlib) (1.16.2)\n",
      "Requirement already satisfied: pyparsing!=2.0.4,!=2.1.2,!=2.1.6,>=2.0.1 in /Users/maanasvohra/Desktop/SCO_V2/env_setup/lib/python3.7/site-packages (from matplotlib) (2.3.1)\n",
      "Requirement already satisfied: python-dateutil>=2.1 in /Users/maanasvohra/Desktop/SCO_V2/env_setup/lib/python3.7/site-packages (from matplotlib) (2.8.0)\n",
      "Requirement already satisfied: kiwisolver>=1.0.1 in /Users/maanasvohra/Desktop/SCO_V2/env_setup/lib/python3.7/site-packages (from matplotlib) (1.0.1)\n",
      "Requirement already satisfied: six in /Users/maanasvohra/Desktop/SCO_V2/env_setup/lib/python3.7/site-packages (from cycler>=0.10->matplotlib) (1.12.0)\n",
      "Requirement already satisfied: setuptools in /Users/maanasvohra/Desktop/SCO_V2/env_setup/lib/python3.7/site-packages (from kiwisolver>=1.0.1->matplotlib) (40.8.0)\n"
     ]
    }
   ],
   "source": [
    "# All installation\n",
    "!pip install python-docx\n",
    "!pip install numpy\n",
    "!pip install matplotlib"
   ]
  },
  {
   "cell_type": "code",
   "execution_count": 142,
   "metadata": {},
   "outputs": [],
   "source": [
    "# Imports\n",
    "import docx\n",
    "import numpy as np\n",
    "import matplotlib.pyplot as plt\n",
    "import random\n",
    "from copy import deepcopy"
   ]
  },
  {
   "cell_type": "code",
   "execution_count": 143,
   "metadata": {},
   "outputs": [],
   "source": [
    "# extracting dataset\n",
    "def readtxt(filename):\n",
    "    doc = docx.Document(filename)\n",
    "    fullText = []\n",
    "    for para in doc.paragraphs:\n",
    "        tmp = para.text.split(\",\")\n",
    "        fullText.append(tmp)\n",
    "    fullText = fullText[1 : len(fullText) - 1]\n",
    "    return fullText\n",
    "\n",
    "dataset = readtxt(\"dataset_chip.docx\")\n",
    "for i in range(len(dataset)) :\n",
    "    for j in range(len(dataset[0])) :\n",
    "        dataset[i][j] = float(dataset[i][j])\n",
    "dataset = np.array(dataset)"
   ]
  },
  {
   "cell_type": "code",
   "execution_count": null,
   "metadata": {},
   "outputs": [],
   "source": []
  },
  {
   "cell_type": "code",
   "execution_count": 144,
   "metadata": {},
   "outputs": [],
   "source": [
    "# dividing into input features and output\n",
    "X = dataset[ : , : -1]\n",
    "X_original = deepcopy(X)\n",
    "\n",
    "X_0 = np.ones((X.shape[0], 1))\n",
    "X = np.hstack((X_0, X))\n",
    "\n",
    "# feature normalization\n",
    "mean_col = np.mean(X, axis=0)\n",
    "std_col = np.std(X, axis=0)\n",
    "for i in range(1, X.shape[1]) :\n",
    "    for j in range(X.shape[0]) :\n",
    "        X[j][i] = X[j][i] - mean_col[i]\n",
    "        X[j][i] = X[j][i] / std_col[i]\n",
    "    \n",
    "y = dataset[ : , -1]\n",
    "y_original = deepcopy(y)"
   ]
  },
  {
   "cell_type": "code",
   "execution_count": null,
   "metadata": {},
   "outputs": [],
   "source": []
  },
  {
   "cell_type": "code",
   "execution_count": 145,
   "metadata": {},
   "outputs": [],
   "source": [
    "# Divide into training and testing data\n",
    "\n",
    "# Separate into training and testing data\n",
    "train_size = int((X.shape[0] * 7) / 10) # 70% train data\n",
    "# print(train_size)\n",
    "X_train_indices = random.sample(range(0, X.shape[0]), train_size)\n",
    "# print(X_train_indis)\n",
    "\n",
    "X_train, X_test, y_train, y_test = [], [], [], []\n",
    "for i in range(X.shape[0]) :\n",
    "    if(i in X_train_indices) :\n",
    "    #         print(i)\n",
    "        X_train.append(X[i])\n",
    "        y_train.append(y[i])\n",
    "    else :\n",
    "        X_test.append(X[i])\n",
    "        y_test.append(y[i])\n",
    "\n",
    "X_train = np.array(X_train)\n",
    "X_test = np.array(X_test)\n",
    "y_train = np.array(y_train)\n",
    "y_test = np.array(y_test)"
   ]
  },
  {
   "cell_type": "code",
   "execution_count": 146,
   "metadata": {},
   "outputs": [],
   "source": [
    "# print(X_train.shape)\n",
    "# print(X_test.shape)"
   ]
  },
  {
   "cell_type": "code",
   "execution_count": 147,
   "metadata": {},
   "outputs": [],
   "source": [
    "# sample count\n",
    "m = float(X_train.shape[0])\n",
    "feature_count = (X_train.shape[1])\n",
    "\n",
    "# lambda for regularization\n",
    "lambda_reg = 0.03\n",
    "\n",
    "# error threshold for batch gradient descent\n",
    "error_threshold = 0.0000001\n",
    "\n",
    "# theta values => randomly initialize b/w -1 and 1\n",
    "theta = np.random.uniform(-1, 1, feature_count)\n",
    "\n",
    "# alpha for grad. descent\n",
    "alpha = 0.01\n",
    "\n",
    "# no. of iterations taken for convergence\n",
    "iterations = 0"
   ]
  },
  {
   "cell_type": "code",
   "execution_count": 148,
   "metadata": {},
   "outputs": [],
   "source": [
    "# sigmoid function\n",
    "def sigmoid(x) :\n",
    "    return 1.0 / (1.0 + np.exp(-x))\n",
    "\n",
    "def net_input(X) :\n",
    "    return np.dot(X, theta)\n",
    "\n",
    "# cost function\n",
    "def cost_function_reg(X, y) :\n",
    "    val1 = np.dot(np.transpose(y), np.log(sigmoid(net_input(X))))\n",
    "    val2 = np.dot(np.transpose(1.0 - y), np.log(1.0 - sigmoid(net_input(X))))\n",
    "    val3 = (lambda_reg / (2.0 * m)) * (sum(np.square(theta[1:])))\n",
    "    \n",
    "    return (-1.0 / m) * (val1 + val2) + val3\n",
    "\n",
    "# gradient calculation\n",
    "def gradient_calc(X, y) :\n",
    "    val1 = (1 / m) * np.dot(np.transpose(X), (sigmoid(net_input(X)) - y))\n",
    "    val2 = np.zeros(theta.shape)\n",
    "    val2[1 : ] = (lambda_reg / m) * theta[1 : ]\n",
    "    return val1 + val2\n",
    "\n",
    "# batch gradient descent\n",
    "def gradient_descent_reg(X, y) :\n",
    "    cost_vals = []\n",
    "    ite = []\n",
    "    \n",
    "    prev_error = -1\n",
    "    prev_cost = -1\n",
    "    \n",
    "    global theta\n",
    "    global iterations\n",
    "    \n",
    "    while True :\n",
    "        iterations = iterations + 1\n",
    "        ite.append(iterations)\n",
    "        theta = theta - alpha * gradient_calc(X, y)\n",
    "        new_cost = cost_function_reg(X, y)\n",
    "        cost_vals.append(new_cost)\n",
    "#         print(iterations, new_cost)\n",
    "        if(prev_cost == -1) :\n",
    "            prev_cost = new_cost\n",
    "        else :\n",
    "            prev_error = prev_cost - new_cost\n",
    "            prev_cost = new_cost\n",
    "            if(prev_error <= error_threshold) :\n",
    "                break\n",
    "    \n",
    "    # plot error v/s iterations\n",
    "    plt.plot(ite, cost_vals)"
   ]
  },
  {
   "cell_type": "code",
   "execution_count": 149,
   "metadata": {},
   "outputs": [
    {
     "name": "stdout",
     "output_type": "stream",
     "text": [
      "Final error is  0.6881037376585071\n",
      "Final theta values are  [ 0.0278978  -0.08352796  0.17462702]\n"
     ]
    },
    {
     "data": {
      "image/png": "[encoded data removed]",
      "text/plain": [
       "<Figure size 432x288 with 1 Axes>"
      ]
     },
     "metadata": {
      "needs_background": "light"
     },
     "output_type": "display_data"
    }
   ],
   "source": [
    "# EXECUTE GRADIENT DESCENT\n",
    "gradient_descent_reg(X_train, y_train)\n",
    "\n",
    "# final cost, theta values\n",
    "print('Final error is ', cost_function_reg(X_train, y_train))\n",
    "print('Final theta values are ', theta)"
   ]
  },
  {
   "cell_type": "code",
   "execution_count": 150,
   "metadata": {},
   "outputs": [
    {
     "data": {
      "text/plain": [
       "[<matplotlib.lines.Line2D at 0x1101c82b0>]"
      ]
     },
     "execution_count": 150,
     "metadata": {},
     "output_type": "execute_result"
    },
    {
     "data": {
      "image/png": "[encoded data removed]",
      "text/plain": [
       "<Figure size 432x288 with 1 Axes>"
      ]
     },
     "metadata": {
      "needs_background": "light"
     },
     "output_type": "display_data"
    }
   ],
   "source": [
    "# plotting points of training data\n",
    "\n",
    "# X_plotting_vals\n",
    "x_admitted_vals = []\n",
    "x_n_admitted_vals = []\n",
    "y_admitted_vals = []\n",
    "y_n_admitted_vals = []\n",
    "for i in range(int(m)) :\n",
    "    if(y_train[i] == 1.0) :\n",
    "        x_admitted_vals.append(X_train[i][1])\n",
    "        y_admitted_vals.append(X_train[i][2])\n",
    "    else :\n",
    "        x_n_admitted_vals.append(X_train[i][1])\n",
    "        y_n_admitted_vals.append(X_train[i][2])\n",
    "\n",
    "plt.plot(x_admitted_vals, y_admitted_vals, 'ro') # admitted \n",
    "plt.plot(x_n_admitted_vals, y_n_admitted_vals, 'go') # not admitted"
   ]
  },
  {
   "cell_type": "code",
   "execution_count": 151,
   "metadata": {},
   "outputs": [
    {
     "data": {
      "text/plain": [
       "[<matplotlib.lines.Line2D at 0x111c8efd0>]"
      ]
     },
     "execution_count": 151,
     "metadata": {},
     "output_type": "execute_result"
    },
    {
     "data": {
      "image/png": "[encoded data removed]",
      "text/plain": [
       "<Figure size 432x288 with 1 Axes>"
      ]
     },
     "metadata": {
      "needs_background": "light"
     },
     "output_type": "display_data"
    }
   ],
   "source": [
    "# plotting decision boundary \n",
    "decision_x_vals = X_train[: , 1]\n",
    "decision_y_vals = -1.0 * ((theta[0] + theta[1] * decision_x_vals) / (theta[2]))\n",
    "\n",
    "plt.plot(x_admitted_vals, y_admitted_vals, 'ro') # admitted \n",
    "plt.plot(x_n_admitted_vals, y_n_admitted_vals, 'go') # not admitted\n",
    "plt.plot(decision_x_vals, decision_y_vals, 'b') # decision boundary"
   ]
  },
  {
   "cell_type": "code",
   "execution_count": 152,
   "metadata": {},
   "outputs": [
    {
     "name": "stdout",
     "output_type": "stream",
     "text": [
      "% accuracy for training data is  53.65853658536586\n"
     ]
    }
   ],
   "source": [
    "# checking for training data accuracy\n",
    "total_correct = 0\n",
    "\n",
    "train_data_evaluated_vals = sigmoid(net_input(X_train))\n",
    "# print(train_data_evaluated_vals.shape)\n",
    "# print(y_train.shape)\n",
    "# print(len(X_train))\n",
    "for i in range(len(X_train)) :\n",
    "    if(y_train[i] == 1 and train_data_evaluated_vals[i] > 0.5) :\n",
    "        total_correct = total_correct + 1\n",
    "    elif(y_train[i] == 0 and train_data_evaluated_vals[i] < 0.5) :\n",
    "        total_correct = total_correct + 1\n",
    "\n",
    "print('% accuracy for training data is ', (total_correct / X_train.shape[0]) * 100)"
   ]
  },
  {
   "cell_type": "code",
   "execution_count": 153,
   "metadata": {},
   "outputs": [
    {
     "name": "stdout",
     "output_type": "stream",
     "text": [
      "% accuracy for test data is  47.22222222222222\n"
     ]
    }
   ],
   "source": [
    "# checking against test data\n",
    "\n",
    "total_correct = 0\n",
    "test_data_evaluated_vals = sigmoid(net_input(X_test))\n",
    "for i in range(len(X_test)) :\n",
    "    if(y_test[i] == 1 and test_data_evaluated_vals[i] > 0.5) :\n",
    "        total_correct = total_correct + 1\n",
    "    elif(y_test[i] == 0 and test_data_evaluated_vals[i] < 0.5) :\n",
    "        total_correct = total_correct + 1\n",
    "\n",
    "print('% accuracy for test data is ', (total_correct / X_test.shape[0]) * 100)"
   ]
  },
  {
   "cell_type": "code",
   "execution_count": 154,
   "metadata": {},
   "outputs": [
    {
     "name": "stdout",
     "output_type": "stream",
     "text": [
      "(118, 28)\n"
     ]
    }
   ],
   "source": [
    "# THE FIT IS NOT PROPER SO WE'LL HAVE TO CHANGE THE PARAMETERS\n",
    "X_modified = []\n",
    "for x in X_original :\n",
    "    new_features = []\n",
    "    for power in range(7) :\n",
    "        for x1_power in range(0, power + 1) :\n",
    "            x2_power = power - x1_power\n",
    "            new_feature = np.power(x[0], x1_power) * np.power(x[1], x2_power)\n",
    "            new_features.append(new_feature)\n",
    "    X_modified.append(new_features)\n",
    "    \n",
    "X_modified = np.array(X_modified)\n",
    "print(X_modified.shape)\n",
    "\n",
    "# print(X_modified.shape)\n",
    "\n",
    "# feature normalization\n",
    "mean_col = np.mean(X_modified, axis=0)\n",
    "std_col = np.std(X_modified, axis=0)\n",
    "for i in range(1, X_modified.shape[1]) :\n",
    "    for j in range(X_modified.shape[0]) :\n",
    "        X_modified[j][i] = X_modified[j][i] - mean_col[i]\n",
    "        X_modified[j][i] = X_modified[j][i] / std_col[i]"
   ]
  },
  {
   "cell_type": "code",
   "execution_count": null,
   "metadata": {},
   "outputs": [],
   "source": []
  },
  {
   "cell_type": "code",
   "execution_count": 155,
   "metadata": {},
   "outputs": [],
   "source": [
    "# Divide into training and testing data\n",
    "\n",
    "# Separate into training and testing data\n",
    "train_size = int((X_modified.shape[0] * 7) / 10) # 70% train data\n",
    "# print(train_size)\n",
    "X_train_indices = random.sample(range(0, X_modified.shape[0]), train_size)\n",
    "# print(X_train_indis)\n",
    "\n",
    "X_train, X_test, y_train, y_test = [], [], [], []\n",
    "for i in range(X_modified.shape[0]) :\n",
    "    if(i in X_train_indices) :\n",
    "    #         print(i)\n",
    "        X_train.append(X_modified[i])\n",
    "        y_train.append(y[i])\n",
    "    else :\n",
    "        X_test.append(X_modified[i])\n",
    "        y_test.append(y[i])\n",
    "\n",
    "X_train = np.array(X_train)\n",
    "X_test = np.array(X_test)\n",
    "y_train = np.array(y_train)\n",
    "y_test = np.array(y_test)"
   ]
  },
  {
   "cell_type": "code",
   "execution_count": 156,
   "metadata": {},
   "outputs": [],
   "source": [
    "# sample count\n",
    "m = float(X_train.shape[0])\n",
    "feature_count = (X_train.shape[1])\n",
    "\n",
    "# lambda for regularization\n",
    "lambda_reg = 0.03\n",
    "\n",
    "# error threshold for batch gradient descent\n",
    "error_threshold = 0.0000001\n",
    "\n",
    "# theta values => randomly initialize b/w -1 and 1\n",
    "theta = np.random.uniform(-1, 1, feature_count)\n",
    "\n",
    "# alpha for grad. descent\n",
    "alpha = 0.01\n",
    "\n",
    "# no. of iterations taken for convergence\n",
    "iterations = 0"
   ]
  },
  {
   "cell_type": "code",
   "execution_count": 157,
   "metadata": {},
   "outputs": [
    {
     "name": "stdout",
     "output_type": "stream",
     "text": [
      "Final error is  0.28724040200133166\n",
      "Final theta values are  [-0.9729242   1.66465509  0.43327726 -2.325464   -1.7867037  -1.35332996\n",
      "  0.96317464  0.95936676  0.48698166  0.56147169 -0.89611716  0.36958413\n",
      "  0.41194726 -0.76894898 -1.46232212  0.00285633 -1.30093424 -0.38460963\n",
      "  1.32374365  0.57522524  0.37050371 -0.88801954 -1.48614612 -1.48151435\n",
      "  1.01368465 -0.5456862  -0.85696933 -2.26971747]\n"
     ]
    },
    {
     "data": {
      "image/png": "[encoded data removed]",
      "text/plain": [
       "<Figure size 432x288 with 1 Axes>"
      ]
     },
     "metadata": {
      "needs_background": "light"
     },
     "output_type": "display_data"
    }
   ],
   "source": [
    "# EXECUTE GRADIENT DESCENT\n",
    "gradient_descent_reg(X_train, y_train)\n",
    "\n",
    "# final cost, theta values\n",
    "print('Final error is ', cost_function_reg(X_train, y_train))\n",
    "print('Final theta values are ', theta)"
   ]
  },
  {
   "cell_type": "code",
   "execution_count": 158,
   "metadata": {},
   "outputs": [
    {
     "data": {
      "text/plain": [
       "[<matplotlib.lines.Line2D at 0x110235d68>]"
      ]
     },
     "execution_count": 158,
     "metadata": {},
     "output_type": "execute_result"
    },
    {
     "data": {
      "image/png": "[encoded data removed]",
      "text/plain": [
       "<Figure size 432x288 with 1 Axes>"
      ]
     },
     "metadata": {
      "needs_background": "light"
     },
     "output_type": "display_data"
    }
   ],
   "source": [
    "# plotting points of training data\n",
    "\n",
    "# X_plotting_vals\n",
    "x_admitted_vals = []\n",
    "x_n_admitted_vals = []\n",
    "y_admitted_vals = []\n",
    "y_n_admitted_vals = []\n",
    "for i in range(int(m)) :\n",
    "    if(y_train[i] == 1.0) :\n",
    "        x_admitted_vals.append(X_train[i][1])\n",
    "        y_admitted_vals.append(X_train[i][2])\n",
    "    else :\n",
    "        x_n_admitted_vals.append(X_train[i][1])\n",
    "        y_n_admitted_vals.append(X_train[i][2])\n",
    "\n",
    "plt.plot(x_admitted_vals, y_admitted_vals, 'ro') # admitted \n",
    "plt.plot(x_n_admitted_vals, y_n_admitted_vals, 'go') # not admitted"
   ]
  },
  {
   "cell_type": "code",
   "execution_count": null,
   "metadata": {},
   "outputs": [],
   "source": []
  },
  {
   "cell_type": "code",
   "execution_count": 159,
   "metadata": {},
   "outputs": [
    {
     "name": "stdout",
     "output_type": "stream",
     "text": [
      "% accuracy for training data is  87.8048780487805\n"
     ]
    }
   ],
   "source": [
    "# checking for training data accuracy\n",
    "total_correct = 0\n",
    "\n",
    "train_data_evaluated_vals = sigmoid(net_input(X_train))\n",
    "# print(train_data_evaluated_vals.shape)\n",
    "# print(y_train.shape)\n",
    "# print(len(X_train))\n",
    "for i in range(len(X_train)) :\n",
    "    if(y_train[i] == 1 and train_data_evaluated_vals[i] > 0.5) :\n",
    "        total_correct = total_correct + 1\n",
    "    elif(y_train[i] == 0 and train_data_evaluated_vals[i] < 0.5) :\n",
    "        total_correct = total_correct + 1\n",
    "\n",
    "print('% accuracy for training data is ', (total_correct / X_train.shape[0]) * 100)"
   ]
  },
  {
   "cell_type": "code",
   "execution_count": 160,
   "metadata": {},
   "outputs": [
    {
     "name": "stdout",
     "output_type": "stream",
     "text": [
      "% accuracy for test data is  77.77777777777779\n"
     ]
    }
   ],
   "source": [
    "# checking against test data\n",
    "\n",
    "total_correct = 0\n",
    "test_data_evaluated_vals = sigmoid(net_input(X_test))\n",
    "for i in range(len(X_test)) :\n",
    "    if(y_test[i] == 1 and test_data_evaluated_vals[i] > 0.5) :\n",
    "        total_correct = total_correct + 1\n",
    "    elif(y_test[i] == 0 and test_data_evaluated_vals[i] < 0.5) :\n",
    "        total_correct = total_correct + 1\n",
    "\n",
    "print('% accuracy for test data is ', (total_correct / X_test.shape[0]) * 100)"
   ]
  },
  {
   "cell_type": "code",
   "execution_count": null,
   "metadata": {},
   "outputs": [],
   "source": []
  }
 ],
 "metadata": {
  "kernelspec": {
   "display_name": "Python 3",
   "language": "python",
   "name": "python3"
  },
  "language_info": {
   "codemirror_mode": {
    "name": "ipython",
    "version": 3
   },
   "file_extension": ".py",
   "mimetype": "text/x-python",
   "name": "python",
   "nbconvert_exporter": "python",
   "pygments_lexer": "ipython3",
   "version": "3.7.1"
  }
 },
 "nbformat": 4,
 "nbformat_minor": 2
}
