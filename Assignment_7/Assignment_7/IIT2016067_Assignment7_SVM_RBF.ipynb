{
 "cells": [
  {
   "cell_type": "code",
   "execution_count": 1,
   "metadata": {},
   "outputs": [],
   "source": [
    "# package installations\n",
    "\n",
    "# !pip3 install numpy\n",
    "# !pip3 install matplotlib\n",
    "# !pip3 install tensorflow"
   ]
  },
  {
   "cell_type": "code",
   "execution_count": 2,
   "metadata": {},
   "outputs": [],
   "source": [
    "# package imports\n",
    "\n",
    "import numpy as np\n",
    "import matplotlib.pyplot as plt\n",
    "import tensorflow as tf\n",
    "import random"
   ]
  },
  {
   "cell_type": "code",
   "execution_count": 3,
   "metadata": {},
   "outputs": [],
   "source": [
    "# importing the dataset using library func.\n",
    "(x_train, y_train), (x_test, y_test) = tf.keras.datasets.mnist.load_data()"
   ]
  },
  {
   "cell_type": "code",
   "execution_count": 4,
   "metadata": {},
   "outputs": [],
   "source": [
    "# construct training set\n",
    "X_train, Y_train = [], []\n",
    "X_3, X_8 = [], []\n",
    "Y_3, Y_8 = [], []\n",
    "\n",
    "for i in range(x_train.shape[0]) :\n",
    "    if(y_train[i] == 3) :\n",
    "        X_3.append(x_train[i].flatten())\n",
    "        Y_3.append(float(1))\n",
    "    elif(y_train[i] == 8) :\n",
    "        X_8.append(x_train[i].flatten())\n",
    "        Y_8.append(float(-1))\n",
    "\n",
    "training_size = 1000\n",
    "\n",
    "training_indices_3 = random.sample(range(0, len(X_3)), int(training_size / 2))\n",
    "training_indices_8 = random.sample(range(0, len(X_8)), int(training_size / 2))\n",
    "\n",
    "# half of 3, half of 8\n",
    "for i in training_indices_3:\n",
    "    X_train.append(X_3[i])\n",
    "    Y_train.append(Y_3[i])\n",
    "\n",
    "for i in training_indices_8 :\n",
    "    X_train.append(X_8[i])\n",
    "    Y_train.append(Y_8[i])\n",
    "    \n",
    "X_train = np.array(X_train)\n",
    "Y_train = np.array(Y_train)"
   ]
  },
  {
   "cell_type": "code",
   "execution_count": 5,
   "metadata": {},
   "outputs": [],
   "source": [
    "# construct testing and validation set\n",
    "X_validation, Y_validation = [], []\n",
    "X_test, Y_test = [], []\n",
    "        \n",
    "validation_size = int((2 * training_size) / 3)\n",
    "testing_size = int((2 * training_size) / 3)\n",
    "\n",
    "X_total, Y_total = [], []\n",
    "for i in range(x_test.shape[0]) :\n",
    "    if(y_test[i] == 3) :\n",
    "        X_total.append(x_test[i].flatten())\n",
    "        Y_total.append(float(1))\n",
    "    elif(y_test[i] == 8) :\n",
    "        X_total.append(x_test[i].flatten())\n",
    "        Y_total.append(float(-1))\n",
    "        \n",
    "X1, Y1 = [], []\n",
    "        \n",
    "validation_indices = random.sample(range(0, len(X_total)), validation_size)\n",
    "for i in range(len(X_total)) :\n",
    "    if(i in validation_indices) :\n",
    "        X_validation.append(X_total[i])\n",
    "        Y_validation.append(Y_total[i])\n",
    "    else :\n",
    "        X1.append(X_total[i])\n",
    "        Y1.append(Y_total[i])\n",
    "\n",
    "testing_indices = random.sample(range(0, len(X1)), testing_size) \n",
    "for i in testing_indices :\n",
    "    X_test.append(X1[i])\n",
    "    Y_test.append(Y1[i])\n",
    "    \n",
    "X_validation = np.array(X_validation)\n",
    "X_test = np.array(X_test)\n",
    "\n",
    "Y_validation = np.array(Y_validation)\n",
    "Y_test = np.array(Y_test)"
   ]
  },
  {
   "cell_type": "code",
   "execution_count": 6,
   "metadata": {},
   "outputs": [],
   "source": [
    "# divide each feature by 255 to normalize\n",
    "X_train = np.divide(X_train, float(255))\n",
    "X_validation = np.divide(X_validation, float(255))\n",
    "X_test = np.divide(X_test, float(255))"
   ]
  },
  {
   "cell_type": "code",
   "execution_count": 7,
   "metadata": {},
   "outputs": [],
   "source": [
    "# kernel functions \n",
    "def linear_kernel(x1, x2) :\n",
    "    return np.matmul(np.transpose(x1), x2)\n",
    "\n",
    "def polynomial_kernel(x1, x2, d=2) :\n",
    "    return (np.matmul(np.transpose(x1), x2) + float(1)) ** d\n",
    "\n",
    "def RBF_kernel(x1, x2, sigma=5) :\n",
    "    return np.exp(- np.sum( np.power((x1 - x2),2) ) / float( 2*(sigma**2) ) )"
   ]
  },
  {
   "cell_type": "code",
   "execution_count": 12,
   "metadata": {},
   "outputs": [],
   "source": [
    "# objective function \n",
    "def objective_function(X_train, Y_train, alpha, b, kernel, X_input) :\n",
    "    ans = 0\n",
    "    for i in range(X_train.shape[0]) :\n",
    "        val = alpha[i] * Y_train[i] * kernel(X_train[i], X_input)\n",
    "        ans = ans + val\n",
    "    ans = ans + b\n",
    "    \n",
    "    return ans\n",
    "\n",
    "# simplified objective function \n",
    "def simplified_objective_function(Y_train, alpha, b, kernel_matrix, index) :\n",
    "    ans = 0\n",
    "    for i in range(Y_train.shape[0]) :\n",
    "        val = alpha[i] * Y_train[i] * kernel_matrix[i][index]\n",
    "        ans = ans + val\n",
    "    ans = ans + b\n",
    "    \n",
    "    return ans\n",
    "\n",
    "# eta val \n",
    "def get_eta(i, j, kernel_matrix) :\n",
    "    return (2 * kernel_matrix[i][j] - kernel_matrix[i][i] - kernel_matrix[j][j])\n",
    "\n",
    "# get kernel matrix\n",
    "def get_kernel_matrix(X_train, kernel) :\n",
    "    kernel_matrix = np.zeros((X_train.shape[0], X_train.shape[0]))\n",
    "    for i in range(X_train.shape[0]) :\n",
    "        for j in range(X_train.shape[0]) :\n",
    "            kernel_matrix[i][j] = kernel(X_train[i], X_train[j])\n",
    "            \n",
    "    return kernel_matrix"
   ]
  },
  {
   "cell_type": "code",
   "execution_count": 9,
   "metadata": {},
   "outputs": [],
   "source": [
    "# obtain kernel Matrix\n",
    "kernel_matrix = get_kernel_matrix(X_train, RBF_kernel)"
   ]
  },
  {
   "cell_type": "code",
   "execution_count": 10,
   "metadata": {},
   "outputs": [],
   "source": [
    "# global variables\n",
    "\n",
    "tol = 0.00001\n",
    "err = 0.00001\n",
    "C = float(50)\n",
    "\n",
    "alpha = np.zeros(X_train.shape[0])\n",
    "b = float(0)\n",
    "max_passes = 5"
   ]
  },
  {
   "cell_type": "code",
   "execution_count": 13,
   "metadata": {},
   "outputs": [
    {
     "name": "stdout",
     "output_type": "stream",
     "text": [
      "0\n",
      "0\n",
      "0\n",
      "0\n",
      "0\n",
      "0\n",
      "0\n",
      "0\n",
      "0\n",
      "0\n",
      "0\n",
      "0\n",
      "0\n",
      "0\n",
      "0\n",
      "0\n",
      "0\n",
      "0\n",
      "0\n",
      "0\n",
      "0\n",
      "0\n",
      "0\n",
      "0\n",
      "0\n",
      "0\n",
      "0\n",
      "0\n",
      "0\n",
      "0\n",
      "0\n",
      "0\n",
      "0\n",
      "0\n",
      "0\n",
      "0\n",
      "0\n",
      "0\n",
      "0\n",
      "0\n",
      "0\n",
      "0\n",
      "0\n",
      "0\n",
      "0\n",
      "0\n",
      "0\n",
      "0\n",
      "0\n",
      "0\n",
      "0\n",
      "0\n",
      "0\n",
      "0\n",
      "0\n",
      "0\n",
      "0\n",
      "0\n",
      "0\n",
      "0\n",
      "0\n",
      "0\n",
      "0\n",
      "0\n",
      "0\n",
      "0\n",
      "0\n",
      "0\n",
      "0\n",
      "0\n",
      "0\n",
      "0\n",
      "0\n",
      "0\n",
      "0\n",
      "0\n",
      "0\n",
      "0\n",
      "0\n",
      "0\n",
      "0\n",
      "0\n",
      "0\n",
      "0\n",
      "0\n",
      "0\n",
      "0\n",
      "0\n",
      "0\n",
      "0\n",
      "0\n",
      "0\n",
      "0\n",
      "0\n",
      "0\n",
      "0\n",
      "0\n",
      "0\n",
      "1\n",
      "0\n",
      "0\n",
      "1\n",
      "0\n",
      "0\n",
      "0\n",
      "0\n",
      "0\n",
      "0\n",
      "1\n",
      "0\n",
      "1\n",
      "0\n",
      "0\n",
      "0\n",
      "1\n",
      "2\n",
      "0\n",
      "0\n",
      "0\n",
      "1\n",
      "0\n",
      "0\n",
      "0\n",
      "1\n",
      "2\n",
      "0\n",
      "0\n",
      "1\n",
      "0\n",
      "0\n",
      "0\n",
      "1\n",
      "2\n",
      "3\n",
      "4\n"
     ]
    }
   ],
   "source": [
    "# smo\n",
    "passes = 0\n",
    "while(passes < max_passes) :\n",
    "    print(passes)\n",
    "    num_changed_alphas = 0\n",
    "    for i in range(X_train.shape[0]) :\n",
    "        error_i = simplified_objective_function(Y_train, alpha, b, kernel_matrix, i) - Y_train[i]\n",
    "        if((Y_train[i] * error_i < float(-1 * tol) and alpha[i] < C) or (Y_train[i] * error_i > tol and alpha[i] > 0)) :\n",
    "            j = i\n",
    "            while(j == i) :\n",
    "                j = np.random.randint(0, X_train.shape[0])\n",
    "            error_j = simplified_objective_function(Y_train, alpha, b, kernel_matrix, j) - Y_train[j]\n",
    "            \n",
    "            # save old alpha\n",
    "            alpha_i_old = alpha[i]\n",
    "            alpha_j_old = alpha[j]\n",
    "            \n",
    "            # calculate L, H\n",
    "            if(Y_train[i] != Y_train[j]) :\n",
    "                L = max(float(0), alpha[j] - alpha[i])\n",
    "                H = min(C, C + alpha[j] - alpha[i])\n",
    "            else :\n",
    "                L = max(0, alpha[i] + alpha[j] - C)\n",
    "                H = min(C, alpha[i] + alpha[j])\n",
    "            \n",
    "            if(L == H) :\n",
    "                continue\n",
    "            \n",
    "            eta = get_eta(i, j, kernel_matrix)\n",
    "            \n",
    "            if(eta == 0) :\n",
    "                continue\n",
    "            \n",
    "            # compute and clip new alpha_j value\n",
    "            alpha_j_new = alpha_j_old - float((Y_train[j] * (error_i - error_j)) / eta)\n",
    "            if(alpha_j_new > H) :\n",
    "                alpha_j_new = H\n",
    "            if(alpha_j_new < L) :\n",
    "                alpha_j_new = L\n",
    "            \n",
    "            if(np.abs(alpha_j_new - alpha_j_old) < err) :\n",
    "                continue\n",
    "                \n",
    "            alpha_i_new = alpha_i_old + (Y_train[i] * Y_train[j] * (alpha_j_old - alpha_j_new))\n",
    "            \n",
    "            # assign values now\n",
    "            alpha[i] = alpha_i_new\n",
    "            alpha[j] = alpha_j_new\n",
    "            \n",
    "            # compute b values \n",
    "            b1 = b - error_i - (Y_train[i] * (alpha_i_new - alpha_i_old) * kernel_matrix[i][i]) - (Y_train[j] * (alpha_j_new - alpha_j_old) * kernel_matrix[i][j])\n",
    "            b2 = b - error_j - (Y_train[i] * (alpha_i_new - alpha_i_old) * kernel_matrix[i][j]) - (Y_train[j] * (alpha_j_new - alpha_j_old) * kernel_matrix[j][j])\n",
    "            \n",
    "            if(alpha_i_new > 0 and alpha_i_new < C) :\n",
    "                b = b1\n",
    "            elif(alpha_j_new > 0 and alpha_j_new < C) :\n",
    "                b = b2\n",
    "            else :\n",
    "                b = float((b1 + b2) / float(2))\n",
    "                \n",
    "            num_changed_alphas += 1\n",
    "        #end\n",
    "    #end\n",
    "    if(num_changed_alphas == 0) :\n",
    "        passes += 1\n",
    "    else :\n",
    "        passes = 0\n",
    "    \n",
    "#end\n",
    "            "
   ]
  },
  {
   "cell_type": "code",
   "execution_count": 16,
   "metadata": {},
   "outputs": [],
   "source": [
    "# check for training samples \n",
    "\n",
    "total_correct = 0\n",
    "for i in range(X_train.shape[0]) :\n",
    "    val = objective_function(X_train, Y_train, alpha, b, RBF_kernel, X_train[i])\n",
    "    if(val >= 0 and Y_train[i] == 1) :\n",
    "        total_correct += 1\n",
    "    elif(val < 0 and Y_train[i] == -1) :\n",
    "        total_correct += 1"
   ]
  },
  {
   "cell_type": "code",
   "execution_count": 19,
   "metadata": {},
   "outputs": [
    {
     "name": "stdout",
     "output_type": "stream",
     "text": [
      "percentage accuracy :  100.0\n"
     ]
    }
   ],
   "source": [
    "# percentage accuracy \n",
    "print(\"percentage accuracy : \", (total_correct / X_train.shape[0]) * 100 )"
   ]
  },
  {
   "cell_type": "code",
   "execution_count": 20,
   "metadata": {},
   "outputs": [],
   "source": [
    "# check for training samples \n",
    "\n",
    "total_correct = 0\n",
    "for i in range(X_validation.shape[0]) :\n",
    "    val = objective_function(X_train, Y_train, alpha, b, RBF_kernel, X_validation[i])\n",
    "    if(val >= 0 and Y_validation[i] == 1) :\n",
    "        total_correct += 1\n",
    "    elif(val < 0 and Y_validation[i] == -1) :\n",
    "        total_correct += 1"
   ]
  },
  {
   "cell_type": "code",
   "execution_count": 23,
   "metadata": {},
   "outputs": [
    {
     "name": "stdout",
     "output_type": "stream",
     "text": [
      "percentage accuracy :  98.34834834834835\n"
     ]
    }
   ],
   "source": [
    "# percentage accuracy \n",
    "print(\"percentage accuracy : \", (total_correct / X_validation.shape[0]) * 100 )"
   ]
  },
  {
   "cell_type": "code",
   "execution_count": 24,
   "metadata": {},
   "outputs": [],
   "source": [
    "# check for testing samples \n",
    "\n",
    "total_correct = 0\n",
    "for i in range(X_test.shape[0]) :\n",
    "    val = objective_function(X_train, Y_train, alpha, b, RBF_kernel, X_test[i])\n",
    "    if(val >= 0 and Y_test[i] == 1) :\n",
    "        total_correct += 1\n",
    "    elif(val < 0 and Y_test[i] == -1) :\n",
    "        total_correct += 1"
   ]
  },
  {
   "cell_type": "code",
   "execution_count": 25,
   "metadata": {},
   "outputs": [
    {
     "name": "stdout",
     "output_type": "stream",
     "text": [
      "percentage accuracy :  97.8978978978979\n"
     ]
    }
   ],
   "source": [
    "# percentage accuracy \n",
    "print(\"percentage accuracy : \", (total_correct / X_test.shape[0]) * 100 )"
   ]
  },
  {
   "cell_type": "code",
   "execution_count": 57,
   "metadata": {},
   "outputs": [],
   "source": [
    "x_val = []\n",
    "y_val = []\n",
    "\n",
    "vals = np.zeros(X_validation.shape[0])\n",
    "for i in range(X_validation.shape[0]) :\n",
    "    vals[i] = objective_function(X_train, Y_train, alpha, b, RBF_kernel, X_validation[i])\n",
    "\n",
    "# plotting roc curve\n",
    "for n in np.linspace(-5, 5, 1000) :\n",
    "    tp, fp, fn, tn = 0, 0, 0, 0\n",
    "    for i in range(X_validation.shape[0]) :\n",
    "        val = vals[i]\n",
    "        if(val >= n) :\n",
    "            if(Y_validation[i] == 1) :\n",
    "                tp += 1\n",
    "            else :\n",
    "                fp += 1\n",
    "        else :\n",
    "            if(Y_validation[i] == 1) :\n",
    "                fn += 1\n",
    "            else :\n",
    "                tn += 1\n",
    "        \n",
    "    tpr = float(tp) / float(tp + fn)\n",
    "    fpr = float(fp) / float(fp + tn)\n",
    "        \n",
    "    x_val.append(fpr)\n",
    "    y_val.append(tpr)"
   ]
  },
  {
   "cell_type": "code",
   "execution_count": 58,
   "metadata": {},
   "outputs": [],
   "source": [
    "x_val.reverse()\n",
    "y_val.reverse()"
   ]
  },
  {
   "cell_type": "code",
   "execution_count": 59,
   "metadata": {},
   "outputs": [
    {
     "data": {
      "text/plain": [
       "Text(0.5, 1.0, 'ROC Curve')"
      ]
     },
     "execution_count": 59,
     "metadata": {},
     "output_type": "execute_result"
    },
    {
     "data": {
      "image/png": "[encoded data removed]",
      "text/plain": [
       "<Figure size 432x288 with 1 Axes>"
      ]
     },
     "metadata": {
      "needs_background": "light"
     },
     "output_type": "display_data"
    }
   ],
   "source": [
    "plt.plot(x_val, y_val)\n",
    "plt.xlabel(\"False positive rate\")\n",
    "plt.ylabel(\"True positive rate\")\n",
    "plt.title(\"ROC Curve\")"
   ]
  },
  {
   "cell_type": "code",
   "execution_count": null,
   "metadata": {},
   "outputs": [],
   "source": []
  },
  {
   "cell_type": "code",
   "execution_count": null,
   "metadata": {},
   "outputs": [],
   "source": []
  }
 ],
 "metadata": {
  "kernelspec": {
   "display_name": "Python 3",
   "language": "python",
   "name": "python3"
  },
  "language_info": {
   "codemirror_mode": {
    "name": "ipython",
    "version": 3
   },
   "file_extension": ".py",
   "mimetype": "text/x-python",
   "name": "python",
   "nbconvert_exporter": "python",
   "pygments_lexer": "ipython3",
   "version": "3.7.1"
  }
 },
 "nbformat": 4,
 "nbformat_minor": 2
}
