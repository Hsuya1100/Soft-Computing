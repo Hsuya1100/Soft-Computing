{
 "cells": [
  {
   "cell_type": "code",
   "execution_count": 79,
   "metadata": {},
   "outputs": [
    {
     "name": "stdout",
     "output_type": "stream",
     "text": [
      "Requirement already satisfied: matplotlib in /Users/maanasvohra/Desktop/SCO_V2/env_setup/lib/python3.7/site-packages (3.0.3)\n",
      "Requirement already satisfied: numpy>=1.10.0 in /Users/maanasvohra/Desktop/SCO_V2/env_setup/lib/python3.7/site-packages (from matplotlib) (1.16.2)\n",
      "Requirement already satisfied: python-dateutil>=2.1 in /Users/maanasvohra/Desktop/SCO_V2/env_setup/lib/python3.7/site-packages (from matplotlib) (2.8.0)\n",
      "Requirement already satisfied: kiwisolver>=1.0.1 in /Users/maanasvohra/Desktop/SCO_V2/env_setup/lib/python3.7/site-packages (from matplotlib) (1.0.1)\n",
      "Requirement already satisfied: pyparsing!=2.0.4,!=2.1.2,!=2.1.6,>=2.0.1 in /Users/maanasvohra/Desktop/SCO_V2/env_setup/lib/python3.7/site-packages (from matplotlib) (2.3.1)\n",
      "Requirement already satisfied: cycler>=0.10 in /Users/maanasvohra/Desktop/SCO_V2/env_setup/lib/python3.7/site-packages (from matplotlib) (0.10.0)\n",
      "Requirement already satisfied: six>=1.5 in /Users/maanasvohra/Desktop/SCO_V2/env_setup/lib/python3.7/site-packages (from python-dateutil>=2.1->matplotlib) (1.12.0)\n",
      "Requirement already satisfied: setuptools in /Users/maanasvohra/Desktop/SCO_V2/env_setup/lib/python3.7/site-packages (from kiwisolver>=1.0.1->matplotlib) (40.8.0)\n",
      "Requirement already satisfied: numpy in /Users/maanasvohra/Desktop/SCO_V2/env_setup/lib/python3.7/site-packages (1.16.2)\n"
     ]
    }
   ],
   "source": [
    "!pip3 install matplotlib\n",
    "!pip3 install numpy"
   ]
  },
  {
   "cell_type": "code",
   "execution_count": 80,
   "metadata": {},
   "outputs": [],
   "source": [
    "# basic imports\n",
    "\n",
    "import numpy as np\n",
    "import matplotlib.pyplot as plt\n",
    "import csv\n",
    "import sys"
   ]
  },
  {
   "cell_type": "code",
   "execution_count": 81,
   "metadata": {},
   "outputs": [],
   "source": [
    "# extract data\n",
    "\n",
    "def extract_data() :\n",
    "    X = []\n",
    "    Y = []\n",
    "    \n",
    "    data_file = open(\"housing.csv\")\n",
    "    data_reader = csv.reader(data_file)\n",
    "    \n",
    "    row_count = 0\n",
    "    for row in data_reader :\n",
    "        row_count += 1\n",
    "        if(row_count != 1) :\n",
    "            Y.append(float(row[1])) # price\n",
    "            data_row = [float(1)]\n",
    "            for i in range(2, len(row)) :\n",
    "                if(row[i] == \"yes\" or row[i] == \"no\") :\n",
    "                    if(row[i] == \"yes\") :\n",
    "                        data_row.append(float(1))\n",
    "                    else :\n",
    "                        data_row.append(float(0))\n",
    "                else :\n",
    "                    data_row.append(float(row[i]))\n",
    "            X.append(data_row)\n",
    "    \n",
    "    X = np.array(X)\n",
    "    Y = np.array(Y)\n",
    "    \n",
    "    return X, Y"
   ]
  },
  {
   "cell_type": "code",
   "execution_count": 82,
   "metadata": {},
   "outputs": [],
   "source": [
    "# linear regression functions\n",
    "\n",
    "# cost function linear regression normal\n",
    "def cost_function_LR(X, Y, theta) :\n",
    "    sample_count = float(X.shape[0])\n",
    "    return (1 / (2 * sample_count)) * (np.dot(np.transpose(np.dot(X, theta) - Y) , np.dot(X, theta) - Y))\n",
    "\n",
    "# gradient descent linear regression normal\n",
    "def gradient_descent_LR(X, Y, theta, alpha, threshold) :\n",
    "    costs = [cost_function_LR(X, Y, theta)]\n",
    "    iterations = [1]\n",
    "    sample_count = float(X.shape[0])\n",
    "    iteration_count = 2\n",
    "    \n",
    "    while(True):\n",
    "        theta = theta - (alpha / sample_count) * np.dot(np.transpose(X), np.dot(X, theta) - Y)\n",
    "        \n",
    "        current_cost = cost_function_LR(X, Y, theta)\n",
    "        if(iteration_count % 1000000 == 0) :\n",
    "            print(iteration_count, \" => \", current_cost, \" prev cost : \", costs[iteration_count - 2], \" error diff :\" , costs[iteration_count - 2] - current_cost)\n",
    "        prev_cost = costs[iteration_count - 2]\n",
    "        costs.append(current_cost)\n",
    "        iterations.append(iteration_count)\n",
    "        \n",
    "        if(prev_cost - current_cost <= threshold) :\n",
    "            break\n",
    "            \n",
    "        iteration_count = iteration_count + 1\n",
    "    \n",
    "    display_graph(costs, iterations)    # display graph \n",
    "    return theta\n",
    "\n",
    "# initialize theta\n",
    "def init_theta_LR(X) :\n",
    "    return np.zeros(X.shape[1])\n",
    "\n",
    "# display cost function v/s iterations\n",
    "def display_graph(costs, iterations) :\n",
    "    print(\"Number of iterations: \", iterations[-1])\n",
    "    print(\"Final cost : \", costs[-1])\n",
    "    plt.plot(iterations, costs)\n",
    "    \n",
    "# normal equation \n",
    "def normal_equation(X, Y) :\n",
    "    return np.dot(np.linalg.inv(np.dot(np.transpose(X), X)), np.dot(np.transpose(X), Y))"
   ]
  },
  {
   "cell_type": "code",
   "execution_count": 83,
   "metadata": {},
   "outputs": [],
   "source": [
    "# initialize global variables\n",
    "\n",
    "X, Y = extract_data()\n",
    "alpha = 0.00000006\n",
    "threshold = 0.0001\n",
    "theta = init_theta_LR(X)"
   ]
  },
  {
   "cell_type": "code",
   "execution_count": 84,
   "metadata": {},
   "outputs": [],
   "source": [
    "# get params for LR\n",
    "\n",
    "# LR_theta = gradient_descent_LR(X, Y, theta, alpha, threshold)"
   ]
  },
  {
   "cell_type": "code",
   "execution_count": 85,
   "metadata": {},
   "outputs": [
    {
     "name": "stdout",
     "output_type": "stream",
     "text": [
      "1000000  =>  294930216.0966527  prev cost :  294930255.6331527  error diff : 39.53650003671646\n",
      "2000000  =>  260887130.10807732  prev cost :  260887159.21707064  error diff : 29.10899332165718\n",
      "3000000  =>  235758747.50131917  prev cost :  235758769.0533421  error diff : 21.55202293395996\n",
      "4000000  =>  217093898.38726872  prev cost :  217093914.45716804  error diff : 16.069899320602417\n",
      "5000000  =>  203120700.8509505  prev cost :  203120712.9387357  error diff : 12.087785184383392\n",
      "6000000  =>  192558027.2840466  prev cost :  192558036.47442347  error diff : 9.190376877784729\n",
      "7000000  =>  184479315.04158658  prev cost :  184479322.11919904  error diff : 7.077612459659576\n",
      "8000000  =>  178214187.3970181  prev cost :  178214192.92969596  error diff : 5.532677859067917\n",
      "9000000  =>  173277386.40075842  prev cost :  173277390.7996544  error diff : 4.398895978927612\n",
      "10000000  =>  169317434.30720454  prev cost :  169317437.87023786  error diff : 3.563033312559128\n",
      "11000000  =>  166079545.87272108  prev cost :  166079548.8159618  error diff : 2.9432407319545746\n",
      "12000000  =>  163378834.79453748  prev cost :  163378837.2748806  error diff : 2.4803431034088135\n",
      "13000000  =>  161080956.20273718  prev cost :  161080958.33428398  error diff : 2.1315467953681946\n",
      "14000000  =>  159088120.70161116  prev cost :  159088122.5675057  error diff : 1.8658945262432098\n",
      "15000000  =>  157328988.6878266  prev cost :  157328990.3488084  error diff : 1.6609818041324615\n",
      "16000000  =>  155751367.73647857  prev cost :  155751369.23706335  error diff : 1.5005847811698914\n",
      "17000000  =>  154316934.93798894  prev cost :  154316936.31093594  error diff : 1.3729470074176788\n",
      "18000000  =>  152997422.11313584  prev cost :  152997423.38267708  error diff : 1.2695412337779999\n",
      "19000000  =>  151771857.88997465  prev cost :  151771859.07414976  error diff : 1.1841751039028168\n",
      "20000000  =>  150624573.35169196  prev cost :  150624574.46403706  error diff : 1.1123450994491577\n",
      "21000000  =>  149543759.3903454  prev cost :  149543760.44111472  error diff : 1.050769329071045\n",
      "Number of iterations:  21941708\n",
      "Final cost :  148578628.6529754\n"
     ]
    },
    {
     "data": {
      "image/png": "[encoded data removed]",
      "text/plain": [
       "<Figure size 432x288 with 1 Axes>"
      ]
     },
     "metadata": {
      "needs_background": "light"
     },
     "output_type": "display_data"
    }
   ],
   "source": [
    "# initialize global variables\n",
    "threshold = 1\n",
    "LR_theta = gradient_descent_LR(X, Y, theta, alpha, threshold)"
   ]
  },
  {
   "cell_type": "code",
   "execution_count": 87,
   "metadata": {},
   "outputs": [
    {
     "data": {
      "text/plain": [
       "array([1.43972725e+03, 4.67550485e+00, 5.49545140e+03, 5.70824361e+03,\n",
       "       6.63408322e+03, 2.18302619e+03, 1.81306569e+03, 2.59884975e+03,\n",
       "       6.78432566e+02, 3.71615216e+03, 3.34088153e+03, 2.38764377e+03])"
      ]
     },
     "execution_count": 87,
     "metadata": {},
     "output_type": "execute_result"
    }
   ],
   "source": [
    "LR_theta"
   ]
  },
  {
   "cell_type": "code",
   "execution_count": 86,
   "metadata": {},
   "outputs": [
    {
     "name": "stdout",
     "output_type": "stream",
     "text": [
      "Final cost :  116323325.68174723\n",
      "Final theta values :  [-4.03835043e+03  3.54630297e+00  1.83200347e+03  1.43355585e+04\n",
      "  6.55694571e+03  6.68777889e+03  4.51128383e+03  5.45238554e+03\n",
      "  1.28314063e+04  1.26328904e+04  4.24482900e+03  9.36951324e+03]\n"
     ]
    }
   ],
   "source": [
    "# for normal equation LR\n",
    "normal_equation_LR_theta = normal_equation(X, Y)\n",
    "print(\"Final cost : \", cost_function_LR(X, Y, normal_equation_LR_theta))\n",
    "print(\"Final theta values : \", normal_equation_LR_theta)"
   ]
  },
  {
   "cell_type": "code",
   "execution_count": null,
   "metadata": {},
   "outputs": [],
   "source": []
  },
  {
   "cell_type": "code",
   "execution_count": null,
   "metadata": {},
   "outputs": [],
   "source": []
  }
 ],
 "metadata": {
  "kernelspec": {
   "display_name": "Python 3",
   "language": "python",
   "name": "python3"
  },
  "language_info": {
   "codemirror_mode": {
    "name": "ipython",
    "version": 3
   },
   "file_extension": ".py",
   "mimetype": "text/x-python",
   "name": "python",
   "nbconvert_exporter": "python",
   "pygments_lexer": "ipython3",
   "version": "3.7.1"
  }
 },
 "nbformat": 4,
 "nbformat_minor": 2
}
